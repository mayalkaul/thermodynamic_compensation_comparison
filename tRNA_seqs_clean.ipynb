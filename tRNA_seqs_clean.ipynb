{
 "cells": [
  {
   "cell_type": "markdown",
   "id": "11e33e03",
   "metadata": {},
   "source": [
    "### What is this?\n",
    "EF-Tu (prokaryotic) and EF1a (eukaryotic) are proteins that bind and deliver amino-acid-charged tRNAs to the ribosome for translation.\n",
    "\n",
    "The Uhlenbeck lab in the 2000s showed that the affinity between a charged tRNA and EF-Tu molecule is determined by a linear combination of the affinity for the amino acid and the innermost three basepairs of the T-arm. In prokaryotes, there is \"thermodynamic compensation\" with low-affinity T-arm basepairs associated with high-affinity amino acids and vice versa, for a narrow range of affinity between -9.5 and 10.5kcal/mol. This is conserved across different bacteria (Schrader and Uhlenbeck, 2011, doi:10.1093/nar/gkr641). This acts as 1) quality control by preventing translation with egregiously misacylated tRNAs and 2) a roadblock if that \"egregious misacylation\" was on purpose (biology is fun). \n",
    "\n",
    "\"Thermodynamic compensation\" has not been definitively proven for eukaryotic tRNAs and EF1a, despite several claims that it does, and significant evidence that some joint amino-acid/tRNA-body recognition is required for proper EF1a binding. This is ONLY looking at whether the amino acids and innermost three basepairs of the T-arm follow the same EXACT pattern in eukaryotic tRNAs as prokaryotic. \n",
    "\n",
    "### Conclusions\n",
    "Prokaryotic thermodynamic compensation results in aatRNA/EF-Tu affinities significantly different from what would be achieved by random combinations of amino acid and T-arm basepairs (p=7.6e-8)\n",
    "\n",
    "eukaryotic aatRNAs do not show a pattern *based on the values of aa and T-arm basepair affinities* (p=0.35), and is significantly different from the prokaryotic values (p=8.2e-182)\n",
    "\n",
    "### NOT conclusions and other concerns with how I did this\n",
    "This doesn't rule out thermodynamic compensation in a different way, especially since the eukaryotic tRNA-delivery system is EF1a, not EF-Tu. \n",
    "\n",
    "This is based on Schrader and Uhlenbeck, 2018(doi:10.1016/j.cbpa.2018.07.016), with the values compared to phenylalanine. The data does not include threonine's value, and does not have values for several tRNA basepairs. \n",
    "\n",
    "### Data?\n",
    "The tRNA sequences are from GtRNAdb out of UCSC (Chan and Lowe, 2016 doi:10.1093/nar/gkv1309). I took all bacterial and all eukaryotic with a quality score above 56, which is \"conservatively\" predicted to be an active tRNA (Chan and Lowe, 2019 doi:10.1007/978-1-4939-9173-0_1). This led to ~150k eukaryotic tRNA sequences and 250k prokaryotic sequences. \n",
    "\n",
    "The effect of the amino acid and \"Uhlenbeck pairs\" is relative to properly acylated Phe-tRNAPhe, and the values come from Schrader and Uhlenbeck, 2018 (doi:10.1016/j.cbpa.2018.07.016)\n",
    "\n",
    "### Approach?\n",
    "1) Identify the T-arm and compile sequences where identification succeeded. \n",
    "\n",
    "I tried doing this based on conserved bases (included as commented segment, as a curiosity), but it worked better to assume the proportions of every tRNA is the same, and just use backwards indexing. In the database, eukaryotic tRNAs do not contain the 3' terminal 'CCA', while prokaryotic often do, and I clip them before indexing. I check if the T-arm is indeed there by checking if the two putatitive T-arm segments are paired in 4/5 of the positions. If I did not successfully get the T-arm, I discard the sequence. ~1.5k and 15k of eukaryotic and prokaryotic tRNAs were abandoned, respectively, mostly from differently-sized T-arm loops. \n",
    "\n",
    "2) Using the amino acid and the three innermost T-arm basepairs, calculate the total \"ΔΔG\" (the different in EF-Tu binding energy compared to Phe-tRNAPhe). \n",
    "\n",
    "matching the amino acid and the Uhlenbeck pairs to their values. This step also removes some weird tRNAs (initiator, suppressor), and unfortunately some tRNAs that contain Uhlenbeck pairs I do not have data for (~3k for Eukaryotes and ~4k for Prokaryotes)\n",
    "\n",
    "3) one-way ANOVA"
   ]
  },
  {
   "cell_type": "code",
   "execution_count": 94,
   "id": "e94afdc7",
   "metadata": {},
   "outputs": [],
   "source": [
    "import numpy\n",
    "import matplotlib.pyplot as plt\n",
    "import linecache\n",
    "import shutil\n",
    "import itertools\n",
    "from Bio import SeqIO\n",
    "from Bio.Seq import Seq\n",
    "import numpy as np\n",
    "from scipy.stats import f_oneway"
   ]
  },
  {
   "cell_type": "code",
   "execution_count": 6,
   "id": "5f3ae6f2",
   "metadata": {},
   "outputs": [],
   "source": [
    "# #### is TNCG enough to find the t-arm? \n",
    "# f = '158278_eukaryotes.fa'\n",
    "# seqiter=SeqIO.parse(open(f), 'fasta')\n",
    "# ct=0\n",
    "# ct0=0\n",
    "# for s in seqiter:\n",
    "#     desc,seq=s.id,s.seq\n",
    "#     cts=seq.count(Seq(\"TACG\"))+seq.count(Seq(\"TTCG\"))+seq.count(Seq(\"TCCG\"))+seq.count(Seq(\"TGCG\"))\n",
    "#     if cts != 1:\n",
    "# #         print(seq.count(Seq(\"TTGC\")))\n",
    "# #         print(desc)\n",
    "#         ct+=1\n",
    "#     if cts==0:\n",
    "#         ct0+=1\n",
    "# print(ct)\n",
    "# print(ct0)\n",
    "# ##### No. cuts out 88256, with 25051 having no TNCG mappings at all. "
   ]
  },
  {
   "cell_type": "code",
   "execution_count": 88,
   "id": "56fcd556",
   "metadata": {},
   "outputs": [],
   "source": [
    "##### Functions\n",
    "\n",
    "def preprocess(src, dest, output_ct=True, output_failnames=False, remove_cca=False):\n",
    "    \"\"\"\n",
    "    takes a source file, destinatino file\n",
    "    optionally whether to remove 'cca' motif and whether to print some data.\n",
    "    \n",
    "    uses indexing to find the tRNA, assuming 1 base overhang, 7 bases in the acceptor stem,\n",
    "    five basepairs to the T-stem, and seven bases to the T-loop. \n",
    "    \n",
    "    if 4/5 postions in the proposed T-stem pair (including G-U wobble), adds it to the destination file \n",
    "    \n",
    "    prints (if True) how many tRNAs were removed by failure to find the T-arm,\n",
    "    and what their fasta names are\n",
    "    \n",
    "    returns nothing.\n",
    "    \"\"\"\n",
    "    binds = ({'G','C'},{'A','T'},{'G','T'})\n",
    "    aas = {'Gly','Ala','Ser','Thr','Cys','Val','Pro','Ile','Leu','Met','His','Trp','Tyr','Phe','Lys','Arg','Gln','Asn','Asp','Glu'}\n",
    "    ct = 0\n",
    "    ditch = []\n",
    "    \n",
    "    shutil.copyfile(src,dest)\n",
    "    \n",
    "    seqiter = SeqIO.parse(open(src),'fasta')\n",
    "    dest=open(dest,'w')\n",
    "    for s in seqiter:\n",
    "        desc,seq = s.id,s.seq\n",
    "        if remove_cca==True and seq[-3:len(seq)]=='CCA':\n",
    "            seq = seq[:-3]\n",
    "        if desc.split('-')[-4] not in aas:\n",
    "            pass\n",
    "        else:\n",
    "            bp=0\n",
    "            T_top=seq[-13:-8]\n",
    "            T_bottom=seq[-21:-26:-1]\n",
    "            for i in range(len(T_top)):\n",
    "                if {T_top[i],T_bottom[i]} not in binds:\n",
    "                    bp+=1\n",
    "                if bp>=2:\n",
    "                    if output_ct:\n",
    "                        ct+=1\n",
    "                    if output_failnames:\n",
    "                        ditch.append(desc)\n",
    "                    break\n",
    "                if i==4:\n",
    "                    SeqIO.write(s,dest,'fasta')\n",
    "    dest.close()\n",
    "    if output_ct:\n",
    "        print(str(ct)+' sequences discarded for failure to find T-arm. ')\n",
    "    if output_failnames:\n",
    "        print('discarded sequences: '+str(ditch))\n",
    "    return\n",
    "\n",
    "def score(src, remove_cca=False, plot=True, faildata=True):\n",
    "    \"\"\"\n",
    "    takes a source file\n",
    "    optionally, whether to remove 'cca' motif, whether to plot, \n",
    "    and whether to give the number of tRNAs that had pairings without data\n",
    "    \n",
    "    prints out some stats\n",
    "    returns the joint scores (the addition of the amino acid and the Uhlenbeck pairs)\n",
    "    \"\"\"\n",
    "    aa_map = {'Gly':0.7,'Ala':1.7,'Ser':-0.5,'Thr':-0.1,'Cys':-1.1,'Pro':-0.1,'Leu':0.7,'Ile':-0.2,'Val':0.4,'Met':0.4,'His':0.222,'Tyr':-0.9,'Trp':-1.1,'Phe':0,'Lys':0.4,'Arg':0.1,'Asn':-0.7,'Gln':-1.4,'Asp':1.9,'Glu':2.8}\n",
    "    U_map_1 = {('C','G'):0, ('T','A'):-0.2, ('G','C'):-0.4, ('A','T'):-0.5,('G','T'):-0.9}\n",
    "    U_map_2 = {('C','G'):-0.2, ('T','A'):0, ('G','C'):0, ('A','T'):0,('G','T'):1.4, ('T','G'):0.4}\n",
    "    U_map_3 = {('C','G'):-0.5, ('T','A'):0, ('G','C'):-1, ('A','T'):0.1,('G','T'):-0.2, ('T','G'):0,('A','C'):-0.8}\n",
    "\n",
    "    aa_scores=[]\n",
    "    U_scores=[]\n",
    "    joint=[]\n",
    "    pair_fail_ct=0\n",
    "    \n",
    "    seqiter = SeqIO.parse(open(src),'fasta')\n",
    "    for s in seqiter:\n",
    "        desc,seq = s.id,s.seq\n",
    "        \n",
    "        if remove_cca==True and seq[-3:len(seq)]=='CCA':\n",
    "            seq = seq[:-3]\n",
    "            \n",
    "        # get amino acid\n",
    "        aa = desc.split('-')[-4]\n",
    "        aa_score = aa_map[aa]\n",
    "        aa_scores.append(aa_score)\n",
    "\n",
    "        # get U-pairs\n",
    "        try:\n",
    "            U_score=U_map_1[(seq[-13],seq[-21])] + U_map_2[(seq[-12],seq[-22])] + U_map_3[(seq[-11],seq[-23])]\n",
    "            U_scores.append(U_score)\n",
    "            joint.append(aa_score+U_score)\n",
    "        except:\n",
    "            pair_fail_ct+=1\n",
    "    \n",
    "    print('max is: '+str(max(joint))+' min is: '+str(min(joint))+' average is: '+str(sum(joint)/len(joint))+' stdev is: '+str(np.std(joint)))\n",
    "    if faildata:\n",
    "        print ('T-arm pairs without data: '+str(pair_fail_ct))\n",
    "    if plot:\n",
    "        plt.hist(joint)\n",
    "        plt.show()\n",
    "        \n",
    "    return(joint)"
   ]
  },
  {
   "cell_type": "code",
   "execution_count": 91,
   "id": "092de52d",
   "metadata": {},
   "outputs": [
    {
     "name": "stdout",
     "output_type": "stream",
     "text": [
      "1472 sequences discarded for failure to find T-arm. \n",
      "max is: 3.1999999999999997 min is: -2.5999999999999996 average is: -0.32896384945088125 stdev is: 0.9460587197904704\n",
      "T-arm pairs without data: 3188\n"
     ]
    },
    {
     "data": {
      "image/png": "[encoded data removed]",
      "text/plain": [
       "<Figure size 640x480 with 1 Axes>"
      ]
     },
     "metadata": {},
     "output_type": "display_data"
    }
   ],
   "source": [
    "###### eukaryotes\n",
    "f = '158278_eukaryotes.fa'\n",
    "f2=\"eukaryotic_tRNAs.fa\"\n",
    "preprocess(f,f2)\n",
    "eukaryote_scores = score(f2,faildata=True)"
   ]
  },
  {
   "cell_type": "code",
   "execution_count": 92,
   "id": "596a1b54",
   "metadata": {},
   "outputs": [
    {
     "name": "stdout",
     "output_type": "stream",
     "text": [
      "14431 sequences discarded for failure to find T-arm. \n",
      "max is: 2.8 min is: -2.5999999999999996 average is: -0.23776858624163716 stdev is: 0.9139348721095949\n",
      "T-arm pairs without data: 4339\n"
     ]
    },
    {
     "data": {
      "image/png": "[encoded data removed]",
      "text/plain": [
       "<Figure size 640x480 with 1 Axes>"
      ]
     },
     "metadata": {},
     "output_type": "display_data"
    }
   ],
   "source": [
    "##### prokaryotes\n",
    "f=\"250k_bacterial.fasta\"\n",
    "f2=\"prokaryotic_tRNAs.fa\"\n",
    "preprocess(f,f2,remove_cca=True)\n",
    "prokaryote_scores = score(f2,remove_cca=True, faildata=True)"
   ]
  },
  {
   "cell_type": "code",
   "execution_count": 93,
   "id": "f93a0305",
   "metadata": {},
   "outputs": [
    {
     "data": {
      "image/png": "[encoded data removed]",
      "text/plain": [
       "<Figure size 640x480 with 1 Axes>"
      ]
     },
     "metadata": {},
     "output_type": "display_data"
    },
    {
     "name": "stdout",
     "output_type": "stream",
     "text": [
      "max is: 4.299999999999999 min is: -3.5 average is: -0.3150904761904758 stdev is: 1.2676717696720956\n"
     ]
    }
   ],
   "source": [
    "##### overall space to look at and its distribution\n",
    "\n",
    "aa_map = {'Gly':0.7,'Ala':1.7,'Ser':-0.5,'Thr':-0.1,'Cys':-1.1,'Pro':-0.1,'Leu':0.7,'Ile':-0.2,'Val':0.4,'Met':0.4,'His':0.222,'Tyr':-0.9,'Trp':-1.1,'Phe':0,'Lys':0.4,'Arg':0.1,'Asn':-0.7,'Gln':-1.4,'Asp':1.9,'Glu':2.8}\n",
    "U_map_1 = {('C','G'):0, ('U','A'):-0.2, ('G','C'):-0.4, ('A','U'):-0.5,('G','U'):-0.9}\n",
    "U_map_2 = {('C','G'):-0.2, ('U','A'):0, ('G','C'):0, ('A','U'):0,('G','U'):1.4, ('U','G'):0.4}\n",
    "U_map_3 = {('C','G'):-0.5, ('U','A'):0, ('G','C'):-1, ('A','U'):0.1,('G','U'):-0.2, ('U','G'):0,('A','C'):-0.8}\n",
    "\n",
    "aa_list=aa_map.values()\n",
    "u1_list=U_map_1.values()\n",
    "u2_list=U_map_2.values()\n",
    "u3_list=U_map_3.values()\n",
    "\n",
    "all_combos=list(itertools.product(*[aa_list,u1_list,u2_list,u3_list]))\n",
    "\n",
    "ground = [sum(tup) for tup in all_combos]\n",
    "\n",
    "plt.hist(ground)\n",
    "plt.show()\n",
    "\n",
    "print('max is: '+str(max(ground))+' min is: '+str(min(ground))+' average is: '+str(sum(ground)/len(ground))+' stdev is: '+str(np.std(ground)))\n"
   ]
  },
  {
   "cell_type": "code",
   "execution_count": 97,
   "id": "8260d685",
   "metadata": {},
   "outputs": [
    {
     "name": "stdout",
     "output_type": "stream",
     "text": [
      "f-statistic: 413.194008263444\n",
      "pval: 5.7670954614473135e-180\n",
      "f-statistic (eu/pro): 827.7506859138061\n",
      "pval (eu/pro): 8.151414327888956e-182\n",
      "f-statistic (eu/ground): 0.859754972562684\n",
      "pval (eu/ground): 0.35380872756584636\n",
      "f-statistic (pro/ground): 28.900192130948305\n",
      "pval (pro/ground): 7.62882372073714e-08\n"
     ]
    }
   ],
   "source": [
    "##### statistically significant difference in averages?\n",
    "f_stat, p_val = f_oneway(eukaryote_scores, prokaryote_scores, ground)\n",
    "print('f-statistic: '+str(f_stat))\n",
    "print('pval: '+str(p_val)) #p-val is 5.8e-180\n",
    "\n",
    "ep_f_stat, ep_p_val=f_oneway(eukaryote_scores, prokaryote_scores)\n",
    "print('f-statistic (eu/pro): '+str(ep_f_stat))\n",
    "print('pval (eu/pro): '+str(ep_p_val)) #8.15e-182\n",
    "\n",
    "eg_f_stat, eg_p_val=f_oneway(eukaryote_scores, ground)\n",
    "print('f-statistic (eu/ground): '+str(eg_f_stat))\n",
    "print('pval (eu/ground): '+str(eg_p_val)) #0.353\n",
    "\n",
    "pg_f_stat, pg_p_val=f_oneway(prokaryote_scores, ground)\n",
    "print('f-statistic (pro/ground): '+str(pg_f_stat))\n",
    "print('pval (pro/ground): '+str(pg_p_val)) #7.62e-8"
   ]
  }
 ],
 "metadata": {
  "kernelspec": {
   "display_name": "Python 3 (ipykernel)",
   "language": "python",
   "name": "python3"
  },
  "language_info": {
   "codemirror_mode": {
    "name": "ipython",
    "version": 3
   },
   "file_extension": ".py",
   "mimetype": "text/x-python",
   "name": "python",
   "nbconvert_exporter": "python",
   "pygments_lexer": "ipython3",
   "version": "3.11.1"
  }
 },
 "nbformat": 4,
 "nbformat_minor": 5
}
